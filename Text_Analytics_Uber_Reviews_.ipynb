{
  "nbformat": 4,
  "nbformat_minor": 0,
  "metadata": {
    "colab": {
      "name": "Text Analytics-Uber Reviews .ipynb",
      "provenance": [],
      "toc_visible": true,
      "include_colab_link": true
    },
    "kernelspec": {
      "name": "python3",
      "display_name": "Python 3"
    }
  },
  "cells": [
    {
      "cell_type": "markdown",
      "metadata": {
        "id": "view-in-github",
        "colab_type": "text"
      },
      "source": [
        "<a href=\"https://colab.research.google.com/github/chengwuw/learning/blob/master/Text_Analytics_Uber_Reviews_.ipynb\" target=\"_parent\"><img src=\"https://colab.research.google.com/assets/colab-badge.svg\" alt=\"Open In Colab\"/></a>"
      ]
    },
    {
      "cell_type": "markdown",
      "metadata": {
        "id": "MaAHGF2lbTQQ"
      },
      "source": [
        "# **Introduction**\n",
        "\n",
        "This project outlines a text-mining classification model using bag-of-words and logistic regression. We will attempt to understand the relationship between Uber text reviews and ride ratings. This is a great place to start if you’re relatively new to unstructured data analysis, yet have some experience with statistics and/or other classification experience.\n",
        "\n",
        "\n",
        "Data Source: [Kaggle](https://www.kaggle.com/purvank/uber-rider-reviews-dataset/data) by user *Purvank*\n"
      ]
    },
    {
      "cell_type": "markdown",
      "metadata": {
        "id": "s0kUMX2GbbjW"
      },
      "source": [
        "\n",
        "\n",
        "*   Preliminary Analysis\n",
        "*   Formatting / Converting Text\n",
        "*   Logistic Regression\n",
        "*   Testing / Conclusions\n",
        "\n"
      ]
    },
    {
      "cell_type": "markdown",
      "metadata": {
        "id": "hSSuXGbGbxFg"
      },
      "source": [
        "**Preliminary Analysis**\n",
        "\n",
        "Import Data\n",
        "First let’s bring in the data and visualize the dataframe:"
      ]
    },
    {
      "cell_type": "code",
      "metadata": {
        "id": "QQ338kOx3sMh",
        "cellView": "both",
        "colab": {
          "base_uri": "https://localhost:8080/",
          "height": 71
        },
        "outputId": "e736a837-4f05-4204-c1f9-061bdd29fbe8"
      },
      "source": [
        "#importing modules\n",
        "import pandas as pd\n",
        "import numpy as np\n",
        "import seaborn as sns\n",
        "%matplotlib inline\n",
        "import matplotlib.pyplot as plt\n",
        "import random"
      ],
      "execution_count": null,
      "outputs": [
        {
          "output_type": "stream",
          "text": [
            "/usr/local/lib/python3.6/dist-packages/statsmodels/tools/_testing.py:19: FutureWarning: pandas.util.testing is deprecated. Use the functions in the public API at pandas.testing instead.\n",
            "  import pandas.util.testing as tm\n"
          ],
          "name": "stderr"
        }
      ]
    },
    {
      "cell_type": "code",
      "metadata": {
        "id": "OHYN5wkY4L7Y",
        "cellView": "both",
        "colab": {
          "base_uri": "https://localhost:8080/",
          "height": 204
        },
        "outputId": "27ade2dd-37e1-454b-ce70-4259e2a4c4eb"
      },
      "source": [
        "url = 'https://raw.githubusercontent.com/ArashVafa/ISTM660/master/Uber_Ride_Reviews.csv'\n",
        "\n",
        "# Load data into a pandas dataframe\n",
        "df = pd.read_csv(url)\n",
        "df.head()"
      ],
      "execution_count": null,
      "outputs": [
        {
          "output_type": "execute_result",
          "data": {
            "text/html": [
              "<div>\n",
              "<style scoped>\n",
              "    .dataframe tbody tr th:only-of-type {\n",
              "        vertical-align: middle;\n",
              "    }\n",
              "\n",
              "    .dataframe tbody tr th {\n",
              "        vertical-align: top;\n",
              "    }\n",
              "\n",
              "    .dataframe thead th {\n",
              "        text-align: right;\n",
              "    }\n",
              "</style>\n",
              "<table border=\"1\" class=\"dataframe\">\n",
              "  <thead>\n",
              "    <tr style=\"text-align: right;\">\n",
              "      <th></th>\n",
              "      <th>ride_review</th>\n",
              "      <th>ride_rating</th>\n",
              "      <th>sentiment</th>\n",
              "    </tr>\n",
              "  </thead>\n",
              "  <tbody>\n",
              "    <tr>\n",
              "      <th>0</th>\n",
              "      <td>I completed running New York Marathon requeste...</td>\n",
              "      <td>1.0</td>\n",
              "      <td>0</td>\n",
              "    </tr>\n",
              "    <tr>\n",
              "      <th>1</th>\n",
              "      <td>My appointment time auto repairs required earl...</td>\n",
              "      <td>1.0</td>\n",
              "      <td>0</td>\n",
              "    </tr>\n",
              "    <tr>\n",
              "      <th>2</th>\n",
              "      <td>Whether I using Uber ride service Uber Eats or...</td>\n",
              "      <td>1.0</td>\n",
              "      <td>0</td>\n",
              "    </tr>\n",
              "    <tr>\n",
              "      <th>3</th>\n",
              "      <td>Why hard understand I trying retrieve Uber cab...</td>\n",
              "      <td>1.0</td>\n",
              "      <td>0</td>\n",
              "    </tr>\n",
              "    <tr>\n",
              "      <th>4</th>\n",
              "      <td>I South Beach FL I staying major hotel ordered...</td>\n",
              "      <td>1.0</td>\n",
              "      <td>0</td>\n",
              "    </tr>\n",
              "  </tbody>\n",
              "</table>\n",
              "</div>"
            ],
            "text/plain": [
              "                                         ride_review  ride_rating  sentiment\n",
              "0  I completed running New York Marathon requeste...          1.0          0\n",
              "1  My appointment time auto repairs required earl...          1.0          0\n",
              "2  Whether I using Uber ride service Uber Eats or...          1.0          0\n",
              "3  Why hard understand I trying retrieve Uber cab...          1.0          0\n",
              "4  I South Beach FL I staying major hotel ordered...          1.0          0"
            ]
          },
          "metadata": {
            "tags": []
          },
          "execution_count": 2
        }
      ]
    },
    {
      "cell_type": "code",
      "metadata": {
        "id": "eh9P0I_dCDwY",
        "cellView": "both",
        "colab": {
          "base_uri": "https://localhost:8080/",
          "height": 35
        },
        "outputId": "11c78f1d-966b-4d7d-96c6-3a6d694a14c1"
      },
      "source": [
        "'''from google.colab import files\n",
        "uploaded = files.upload()'''"
      ],
      "execution_count": null,
      "outputs": [
        {
          "output_type": "execute_result",
          "data": {
            "application/vnd.google.colaboratory.intrinsic": {
              "type": "string"
            },
            "text/plain": [
              "'from google.colab import files\\nuploaded = files.upload()'"
            ]
          },
          "metadata": {
            "tags": []
          },
          "execution_count": 40
        }
      ]
    },
    {
      "cell_type": "code",
      "metadata": {
        "id": "Dx-JZrHgNDra",
        "cellView": "both",
        "colab": {
          "base_uri": "https://localhost:8080/",
          "height": 35
        },
        "outputId": "3010292c-0e7f-4604-cb9d-d94a0cde7abd"
      },
      "source": [
        "'''df = pd.read_csv('/content/Datafiniti_Amazon_Consumer_Reviews_of_Amazon_Products_May19.csv')\n",
        "df.head(5)'''"
      ],
      "execution_count": null,
      "outputs": [
        {
          "output_type": "execute_result",
          "data": {
            "application/vnd.google.colaboratory.intrinsic": {
              "type": "string"
            },
            "text/plain": [
              "\"df = pd.read_csv('/content/Datafiniti_Amazon_Consumer_Reviews_of_Amazon_Products_May19.csv')\\ndf.head(5)\""
            ]
          },
          "metadata": {
            "tags": []
          },
          "execution_count": 41
        }
      ]
    },
    {
      "cell_type": "code",
      "metadata": {
        "id": "xnzFbb-G3YFq",
        "colab": {
          "base_uri": "https://localhost:8080/",
          "height": 34
        },
        "outputId": "aed169ca-f088-4301-9b99-1132389d7b1f"
      },
      "source": [
        "df.columns"
      ],
      "execution_count": null,
      "outputs": [
        {
          "output_type": "execute_result",
          "data": {
            "text/plain": [
              "Index(['ride_review', 'ride_rating', 'sentiment'], dtype='object')"
            ]
          },
          "metadata": {
            "tags": []
          },
          "execution_count": 42
        }
      ]
    },
    {
      "cell_type": "code",
      "metadata": {
        "id": "e6fVRdi3NnRa",
        "cellView": "both",
        "colab": {
          "base_uri": "https://localhost:8080/",
          "height": 204
        },
        "outputId": "6de41ceb-6f88-4e48-8a91-1a9decfd56f2"
      },
      "source": [
        "df2 = df[['ride_review', 'ride_rating']] \n",
        "df = df2\n",
        "df.head()"
      ],
      "execution_count": null,
      "outputs": [
        {
          "output_type": "execute_result",
          "data": {
            "text/html": [
              "<div>\n",
              "<style scoped>\n",
              "    .dataframe tbody tr th:only-of-type {\n",
              "        vertical-align: middle;\n",
              "    }\n",
              "\n",
              "    .dataframe tbody tr th {\n",
              "        vertical-align: top;\n",
              "    }\n",
              "\n",
              "    .dataframe thead th {\n",
              "        text-align: right;\n",
              "    }\n",
              "</style>\n",
              "<table border=\"1\" class=\"dataframe\">\n",
              "  <thead>\n",
              "    <tr style=\"text-align: right;\">\n",
              "      <th></th>\n",
              "      <th>ride_review</th>\n",
              "      <th>ride_rating</th>\n",
              "    </tr>\n",
              "  </thead>\n",
              "  <tbody>\n",
              "    <tr>\n",
              "      <th>0</th>\n",
              "      <td>I completed running New York Marathon requeste...</td>\n",
              "      <td>1.0</td>\n",
              "    </tr>\n",
              "    <tr>\n",
              "      <th>1</th>\n",
              "      <td>My appointment time auto repairs required earl...</td>\n",
              "      <td>1.0</td>\n",
              "    </tr>\n",
              "    <tr>\n",
              "      <th>2</th>\n",
              "      <td>Whether I using Uber ride service Uber Eats or...</td>\n",
              "      <td>1.0</td>\n",
              "    </tr>\n",
              "    <tr>\n",
              "      <th>3</th>\n",
              "      <td>Why hard understand I trying retrieve Uber cab...</td>\n",
              "      <td>1.0</td>\n",
              "    </tr>\n",
              "    <tr>\n",
              "      <th>4</th>\n",
              "      <td>I South Beach FL I staying major hotel ordered...</td>\n",
              "      <td>1.0</td>\n",
              "    </tr>\n",
              "  </tbody>\n",
              "</table>\n",
              "</div>"
            ],
            "text/plain": [
              "                                         ride_review  ride_rating\n",
              "0  I completed running New York Marathon requeste...          1.0\n",
              "1  My appointment time auto repairs required earl...          1.0\n",
              "2  Whether I using Uber ride service Uber Eats or...          1.0\n",
              "3  Why hard understand I trying retrieve Uber cab...          1.0\n",
              "4  I South Beach FL I staying major hotel ordered...          1.0"
            ]
          },
          "metadata": {
            "tags": []
          },
          "execution_count": 43
        }
      ]
    },
    {
      "cell_type": "markdown",
      "metadata": {
        "id": "4L9eyeg7cMnf"
      },
      "source": [
        "It’s a straightforward dataset. We have the “ride_review” text column and the “ride_rating” column (which ranges from 1 as the lowest rating and 5 as the highest). Users write these text reviews to describe their experience and the categorical 5 star rating summarizes it.\n",
        "\n",
        "**Basic Statistics**\n",
        "\n",
        "Let’s check the .describe() method to see how many instances we’re dealing with and other basic statistics:"
      ]
    },
    {
      "cell_type": "code",
      "metadata": {
        "id": "nMtDSQSK4Ic4",
        "colab": {
          "base_uri": "https://localhost:8080/",
          "height": 297
        },
        "outputId": "02c19360-a273-45fb-9588-b768143094af"
      },
      "source": [
        "df.describe()"
      ],
      "execution_count": null,
      "outputs": [
        {
          "output_type": "execute_result",
          "data": {
            "text/html": [
              "<div>\n",
              "<style scoped>\n",
              "    .dataframe tbody tr th:only-of-type {\n",
              "        vertical-align: middle;\n",
              "    }\n",
              "\n",
              "    .dataframe tbody tr th {\n",
              "        vertical-align: top;\n",
              "    }\n",
              "\n",
              "    .dataframe thead th {\n",
              "        text-align: right;\n",
              "    }\n",
              "</style>\n",
              "<table border=\"1\" class=\"dataframe\">\n",
              "  <thead>\n",
              "    <tr style=\"text-align: right;\">\n",
              "      <th></th>\n",
              "      <th>ride_rating</th>\n",
              "    </tr>\n",
              "  </thead>\n",
              "  <tbody>\n",
              "    <tr>\n",
              "      <th>count</th>\n",
              "      <td>1344.000000</td>\n",
              "    </tr>\n",
              "    <tr>\n",
              "      <th>mean</th>\n",
              "      <td>1.627232</td>\n",
              "    </tr>\n",
              "    <tr>\n",
              "      <th>std</th>\n",
              "      <td>1.296149</td>\n",
              "    </tr>\n",
              "    <tr>\n",
              "      <th>min</th>\n",
              "      <td>1.000000</td>\n",
              "    </tr>\n",
              "    <tr>\n",
              "      <th>25%</th>\n",
              "      <td>1.000000</td>\n",
              "    </tr>\n",
              "    <tr>\n",
              "      <th>50%</th>\n",
              "      <td>1.000000</td>\n",
              "    </tr>\n",
              "    <tr>\n",
              "      <th>75%</th>\n",
              "      <td>1.000000</td>\n",
              "    </tr>\n",
              "    <tr>\n",
              "      <th>max</th>\n",
              "      <td>5.000000</td>\n",
              "    </tr>\n",
              "  </tbody>\n",
              "</table>\n",
              "</div>"
            ],
            "text/plain": [
              "       ride_rating\n",
              "count  1344.000000\n",
              "mean      1.627232\n",
              "std       1.296149\n",
              "min       1.000000\n",
              "25%       1.000000\n",
              "50%       1.000000\n",
              "75%       1.000000\n",
              "max       5.000000"
            ]
          },
          "metadata": {
            "tags": []
          },
          "execution_count": 44
        }
      ]
    },
    {
      "cell_type": "markdown",
      "metadata": {
        "id": "wRwX2Xbtcbk5"
      },
      "source": [
        "It appears Uber drivers haven’t performed very well in this sample. The mean is a rating of 1.62, and the 75% mark is a 1 star review! This tells us there are a disproportionate amount of 1 star reviews. Hopefully we can gain insight into this by building a model.\n",
        "\n",
        "**Purpose of Model**\n",
        "\n",
        "Having mentioned that, let’s reiterate the utility of the bag of words / logistic regression model we will build:\n",
        "\n",
        "\n",
        "*   We will be able to gauge the sentiment of future text reviews and categorize them into “Good” or “Bad” classes.\n",
        "*   We will be able to pinpoint specific words with a high impact on rating sentiment. This information could be an asset for Uber (if used for their entire internal dataset — not this small sample we have). For example, the word “rude” likely has a negative coefficient, pushing our classifier to label that review as bad. The word “great” likely has a positive coefficient, pushing our classifier to label that review as good. The goal is discovery. We don’t know what interesting words may appear to have an impact on sentiment, and that’s the fun part. Does the word “great” outweigh “horrible” and net positive or negative? Many questions like this will be answered with our model.\n",
        "\n"
      ]
    },
    {
      "cell_type": "markdown",
      "metadata": {
        "id": "c7qs1J85ctu0"
      },
      "source": [
        "**Null Check**\n",
        "\n",
        "Moving on, let’s check for null values in the dataset:"
      ]
    },
    {
      "cell_type": "code",
      "metadata": {
        "id": "WkO7fhKBc0sN",
        "colab": {
          "base_uri": "https://localhost:8080/",
          "height": 68
        },
        "outputId": "8dffaf0f-3f38-4c72-cbce-9aa6746bfee1"
      },
      "source": [
        "#checking for nulls\n",
        "null_count = df.isnull().sum()\n",
        "null_count"
      ],
      "execution_count": null,
      "outputs": [
        {
          "output_type": "execute_result",
          "data": {
            "text/plain": [
              "ride_review    0\n",
              "ride_rating    0\n",
              "dtype: int64"
            ]
          },
          "metadata": {
            "tags": []
          },
          "execution_count": 45
        }
      ]
    },
    {
      "cell_type": "markdown",
      "metadata": {
        "id": "5RwrCnoYcyVE"
      },
      "source": [
        "None this time. If we had some nulls, we would need to explore how to deal with those. Many good resources exist on this topic you can research."
      ]
    },
    {
      "cell_type": "markdown",
      "metadata": {
        "id": "2UU5VZOCc67q"
      },
      "source": [
        "**Distributions**\n",
        "\n",
        "Next, let’s visualize the rating distribution of our data:"
      ]
    },
    {
      "cell_type": "code",
      "metadata": {
        "id": "uXzNsYGNc_jC",
        "colab": {
          "base_uri": "https://localhost:8080/",
          "height": 295
        },
        "outputId": "79ea6c74-aeb2-4920-fe47-907eb8486bc6"
      },
      "source": [
        "#@title Visualization\n",
        "#seperating by groups\n",
        "groups = df.groupby('ride_rating').count()\n",
        "Values = groups.ride_review\n",
        "colors = ['r', 'g', 'b', 'c', 'm']\n",
        "#making bar plot\n",
        "plt.bar(([1,2,3,4,5]), Values, color= colors)\n",
        "plt.title('Rating Distribution')\n",
        "plt.xlabel('Rating')\n",
        "plt.ylabel('Review Quantity')\n",
        "plt.show()"
      ],
      "execution_count": null,
      "outputs": [
        {
          "output_type": "display_data",
          "data": {
            "image/png": "[encoded data removed]",
            "text/plain": [
              "<Figure size 432x288 with 1 Axes>"
            ]
          },
          "metadata": {
            "tags": [],
            "needs_background": "light"
          }
        }
      ]
    },
    {
      "cell_type": "markdown",
      "metadata": {
        "id": "DoDGbLYHdPz_"
      },
      "source": [
        "**Logistic Regression**\n",
        "\n",
        "In statistics, the logistic model (or logit model) is used to model the probability of a certain class or event existing such as pass/fail, win/lose, alive/dead or healthy/sick. This can be extended to model several classes of events such as determining whether an image contains a cat, dog, lion, etc... Each object being detected in the image would be assigned a probability between 0 and 1 and the sum adding to one.\n",
        "\n"
      ]
    },
    {
      "cell_type": "markdown",
      "metadata": {
        "id": "EuxGZyWOdEQL"
      },
      "source": [
        "**Setiment Rule**\n",
        "\n",
        "In order to perform the logistic regression later, we need to figure out a way to turn these 5 ratings categories into binary classes (1 and 0). Remember, logistic regression only handles “either/or” target variables. The best way to turn the star ratings into binary classes(in my opinion) is:\n",
        "\n",
        "Set ratings below 3 stars as class 0 (negative sentiment)\n",
        "\n",
        "Set ratings above 3 as class 1 (positive sentiment)\n",
        "\n",
        "Delete the 3 star ratings. 3 stars are neutral and offer no sentiment insight.\n",
        "\n",
        "So, let’s make a new column that deletes the 3 star ratings and creates a new column which classifies the other ratings into binary classes:"
      ]
    },
    {
      "cell_type": "code",
      "metadata": {
        "id": "KvFlCTCfdlVK",
        "colab": {
          "base_uri": "https://localhost:8080/",
          "height": 295
        },
        "outputId": "fc9eb799-0f28-4e24-eee3-1c30998dab4d"
      },
      "source": [
        "#@title Dropping data that will not help in out modeling\n",
        "#deleting all instances with ride_rating = 3\n",
        "df = df[df.ride_rating != 3]\n",
        "#separating by groups\n",
        "groups = df.groupby('ride_rating').count()\n",
        "Values = groups.ride_review\n",
        "colors = ['r', 'g', 'b', 'c']\n",
        "#making bar plot\n",
        "plt.bar(([1,2,4,5]), Values, color= colors)\n",
        "plt.title('Rating Distribution')\n",
        "plt.xlabel('Rating')\n",
        "plt.ylabel('Review Quantity')\n",
        "plt.show()"
      ],
      "execution_count": null,
      "outputs": [
        {
          "output_type": "display_data",
          "data": {
            "image/png": "[encoded data removed]",
            "text/plain": [
              "<Figure size 432x288 with 1 Axes>"
            ]
          },
          "metadata": {
            "tags": [],
            "needs_background": "light"
          }
        }
      ]
    },
    {
      "cell_type": "code",
      "metadata": {
        "id": "qetWiQChdq_O",
        "colab": {
          "base_uri": "https://localhost:8080/",
          "height": 521
        },
        "outputId": "11938089-4bff-4dd7-e49c-7f15f51f25b4"
      },
      "source": [
        "#@title Creating new binary_class column\n",
        "df['binary_class'] = np.where(df['ride_rating'] > 3, 1, 0)\n",
        "df"
      ],
      "execution_count": null,
      "outputs": [
        {
          "output_type": "stream",
          "text": [
            "/usr/local/lib/python3.6/dist-packages/ipykernel_launcher.py:2: SettingWithCopyWarning: \n",
            "A value is trying to be set on a copy of a slice from a DataFrame.\n",
            "Try using .loc[row_indexer,col_indexer] = value instead\n",
            "\n",
            "See the caveats in the documentation: https://pandas.pydata.org/pandas-docs/stable/user_guide/indexing.html#returning-a-view-versus-a-copy\n",
            "  \n"
          ],
          "name": "stderr"
        },
        {
          "output_type": "execute_result",
          "data": {
            "text/html": [
              "<div>\n",
              "<style scoped>\n",
              "    .dataframe tbody tr th:only-of-type {\n",
              "        vertical-align: middle;\n",
              "    }\n",
              "\n",
              "    .dataframe tbody tr th {\n",
              "        vertical-align: top;\n",
              "    }\n",
              "\n",
              "    .dataframe thead th {\n",
              "        text-align: right;\n",
              "    }\n",
              "</style>\n",
              "<table border=\"1\" class=\"dataframe\">\n",
              "  <thead>\n",
              "    <tr style=\"text-align: right;\">\n",
              "      <th></th>\n",
              "      <th>ride_review</th>\n",
              "      <th>ride_rating</th>\n",
              "      <th>binary_class</th>\n",
              "    </tr>\n",
              "  </thead>\n",
              "  <tbody>\n",
              "    <tr>\n",
              "      <th>0</th>\n",
              "      <td>I completed running New York Marathon requeste...</td>\n",
              "      <td>1.0</td>\n",
              "      <td>0</td>\n",
              "    </tr>\n",
              "    <tr>\n",
              "      <th>1</th>\n",
              "      <td>My appointment time auto repairs required earl...</td>\n",
              "      <td>1.0</td>\n",
              "      <td>0</td>\n",
              "    </tr>\n",
              "    <tr>\n",
              "      <th>2</th>\n",
              "      <td>Whether I using Uber ride service Uber Eats or...</td>\n",
              "      <td>1.0</td>\n",
              "      <td>0</td>\n",
              "    </tr>\n",
              "    <tr>\n",
              "      <th>3</th>\n",
              "      <td>Why hard understand I trying retrieve Uber cab...</td>\n",
              "      <td>1.0</td>\n",
              "      <td>0</td>\n",
              "    </tr>\n",
              "    <tr>\n",
              "      <th>4</th>\n",
              "      <td>I South Beach FL I staying major hotel ordered...</td>\n",
              "      <td>1.0</td>\n",
              "      <td>0</td>\n",
              "    </tr>\n",
              "    <tr>\n",
              "      <th>...</th>\n",
              "      <td>...</td>\n",
              "      <td>...</td>\n",
              "      <td>...</td>\n",
              "    </tr>\n",
              "    <tr>\n",
              "      <th>1339</th>\n",
              "      <td>everyone knows uber fast couple drinks night w...</td>\n",
              "      <td>2.0</td>\n",
              "      <td>0</td>\n",
              "    </tr>\n",
              "    <tr>\n",
              "      <th>1340</th>\n",
              "      <td>For service asks credit card number right bat ...</td>\n",
              "      <td>1.0</td>\n",
              "      <td>0</td>\n",
              "    </tr>\n",
              "    <tr>\n",
              "      <th>1341</th>\n",
              "      <td>great service hiring drivers know way around t...</td>\n",
              "      <td>2.0</td>\n",
              "      <td>0</td>\n",
              "    </tr>\n",
              "    <tr>\n",
              "      <th>1342</th>\n",
              "      <td>Uber several problems make poor experience con...</td>\n",
              "      <td>1.0</td>\n",
              "      <td>0</td>\n",
              "    </tr>\n",
              "    <tr>\n",
              "      <th>1343</th>\n",
              "      <td>Uber kind like magic You punch buttons app pho...</td>\n",
              "      <td>5.0</td>\n",
              "      <td>1</td>\n",
              "    </tr>\n",
              "  </tbody>\n",
              "</table>\n",
              "<p>1294 rows × 3 columns</p>\n",
              "</div>"
            ],
            "text/plain": [
              "                                            ride_review  ...  binary_class\n",
              "0     I completed running New York Marathon requeste...  ...             0\n",
              "1     My appointment time auto repairs required earl...  ...             0\n",
              "2     Whether I using Uber ride service Uber Eats or...  ...             0\n",
              "3     Why hard understand I trying retrieve Uber cab...  ...             0\n",
              "4     I South Beach FL I staying major hotel ordered...  ...             0\n",
              "...                                                 ...  ...           ...\n",
              "1339  everyone knows uber fast couple drinks night w...  ...             0\n",
              "1340  For service asks credit card number right bat ...  ...             0\n",
              "1341  great service hiring drivers know way around t...  ...             0\n",
              "1342  Uber several problems make poor experience con...  ...             0\n",
              "1343  Uber kind like magic You punch buttons app pho...  ...             1\n",
              "\n",
              "[1294 rows x 3 columns]"
            ]
          },
          "metadata": {
            "tags": []
          },
          "execution_count": 49
        }
      ]
    },
    {
      "cell_type": "markdown",
      "metadata": {
        "id": "6SLmxjwbdxKp"
      },
      "source": [
        "# **Formatting / Converting Text**\n",
        "**Train/Test Split**\n",
        "\n",
        "The first step in this process is separating our data into training and testing sets. We will create our model from the training data and save some instances for testing purposes later. We’re using sklearn to shuffle and split. Without messing with the parameters, it should split our data into 75% training and 25% testing.\n",
        "\n",
        "By calling X_train.shape, we can check this. Further, let’s print a random review to verify it worked and to remind ourselves what we’re working with."
      ]
    },
    {
      "cell_type": "code",
      "metadata": {
        "id": "x_HILfupRFOr",
        "colab": {
          "base_uri": "https://localhost:8080/",
          "height": 122
        },
        "outputId": "dcd10f6e-b1b4-491a-b885-8a234328078b"
      },
      "source": [
        "#@title Splitting into train and test\n",
        "\n",
        "from sklearn.model_selection import train_test_split\n",
        "X_train, X_test, y_train, y_test = train_test_split(df['ride_review'], df['binary_class'], random_state = 0)\n",
        "#setting random number between 1 and 1000\n",
        "number = random.randint(1,1000)\n",
        "#printing random training text and X_train shape\n",
        "print ('Random Review:')\n",
        "print(' ')\n",
        "print(X_train[number])\n",
        "print(' ')\n",
        "print('X_train shape: ' + str(X_train.shape))"
      ],
      "execution_count": null,
      "outputs": [
        {
          "output_type": "stream",
          "text": [
            "Random Review:\n",
            " \n",
            "After days waiting online password reset email link show email box I email support times back forward Here summary staged response Stage I must press wrong button taking ride provide feedback services Did I I need access online book ride Stage They claimed locate account Then tell acct already existed please reset password I tried logon Stage They finally find account need picture Gov ID email password reset email link I told I NOT driver As Citizen taxi bus service requested gov ID take ride United States It took less two minutes book ride Lyft If email password reset link lost biz\n",
            " \n",
            "X_train shape: (970,)\n"
          ],
          "name": "stdout"
        }
      ]
    },
    {
      "cell_type": "markdown",
      "metadata": {
        "id": "hE6ZWO4NeLbG"
      },
      "source": [
        "**Turning words into numbers**\n",
        "\n",
        "Now comes the exciting part, translating our text data into numerical features. In order to run a regression though this data later, we need to have a feature for every word in our sample. Essentially, we will be translating each word to be assigned as a number and then counting the frequency of these word/numbers used per instance in matrices. The process of doing this is called **“Bag-of-words”**. It’s important to note that the order of words doesn’t matter, bag-of-words only counts the frequency per instance of words used. To start, we will use the Sklearn CountVectorizer"
      ]
    },
    {
      "cell_type": "code",
      "metadata": {
        "id": "4wDccJ7qeHV-",
        "colab": {
          "base_uri": "https://localhost:8080/",
          "height": 170
        },
        "outputId": "170c1f07-1dae-427c-8fb5-7c0cf3875769"
      },
      "source": [
        "#@title Turning words into numbers\n",
        "#importing countvectorizer\n",
        "from sklearn.feature_extraction.text import CountVectorizer\n",
        "#creating variable which assigns X_train to numbers\n",
        "vect = CountVectorizer().fit(X_train)\n",
        "#translates numbers back to text\n",
        "vect.get_feature_names()[1:10]"
      ],
      "execution_count": null,
      "outputs": [
        {
          "output_type": "execute_result",
          "data": {
            "text/plain": [
              "['abandoned',\n",
              " 'ability',\n",
              " 'able',\n",
              " 'about',\n",
              " 'abrupt',\n",
              " 'absence',\n",
              " 'absolute',\n",
              " 'absolutely',\n",
              " 'absorb']"
            ]
          },
          "metadata": {
            "tags": []
          },
          "execution_count": 52
        }
      ]
    },
    {
      "cell_type": "markdown",
      "metadata": {
        "id": "LTtdlHNReujC"
      },
      "source": [
        "We can see using the len(vect.get_feature_names()) method, there are a total of 6,607 words in all the reviews:"
      ]
    },
    {
      "cell_type": "code",
      "metadata": {
        "id": "JwStGotWev9X",
        "colab": {
          "base_uri": "https://localhost:8080/",
          "height": 34
        },
        "outputId": "3617f4a2-7d77-46d9-91a3-e0636ba71679"
      },
      "source": [
        "#length of total words\n",
        "len(vect.get_feature_names())"
      ],
      "execution_count": null,
      "outputs": [
        {
          "output_type": "execute_result",
          "data": {
            "text/plain": [
              "6607"
            ]
          },
          "metadata": {
            "tags": []
          },
          "execution_count": 53
        }
      ]
    },
    {
      "cell_type": "markdown",
      "metadata": {
        "id": "4_fZOkoee1gT"
      },
      "source": [
        "Now, let’s transform our X_train data into a matrix which contains the documents (instances) as rows and the count of new features (6,607) as columns. For example, our first word (0) as seen above is “abandoned”. That will be the first column in the matrix. Whichever Uber reviews contain ‘abandoned’ will tally up how many times it was used and add it to that column. As a side note, someone using “abandoned”, will likely have a negative effect on rating. We can experiment later on this."
      ]
    },
    {
      "cell_type": "code",
      "metadata": {
        "id": "l6XlkgdEe2-I",
        "colab": {
          "base_uri": "https://localhost:8080/",
          "height": 136
        },
        "outputId": "8efcb8ce-0895-4232-d71e-3b8c6fc6ea3a"
      },
      "source": [
        "#@title Creating matrix array for logistic regression\n",
        "X_train_vectorized = vect.transform(X_train)\n",
        "print (X_train_vectorized.toarray())"
      ],
      "execution_count": null,
      "outputs": [
        {
          "output_type": "stream",
          "text": [
            "[[0 0 0 ... 0 0 0]\n",
            " [0 0 0 ... 0 0 0]\n",
            " [0 0 0 ... 0 0 0]\n",
            " ...\n",
            " [0 0 0 ... 0 0 0]\n",
            " [0 0 0 ... 0 0 0]\n",
            " [0 0 0 ... 0 0 0]]\n"
          ],
          "name": "stdout"
        }
      ]
    },
    {
      "cell_type": "markdown",
      "metadata": {
        "id": "l5NWdarpe542"
      },
      "source": [
        "Because there are so many words and most reviews only have a small portion of them, most of the numbers in this array will be 0."
      ]
    },
    {
      "cell_type": "markdown",
      "metadata": {
        "id": "xcAsF3QgfAv5"
      },
      "source": [
        "**Logistic Regression**\n",
        "\n",
        "**Building Model**\n",
        "\n",
        "We finally made it to the regression.\n",
        "Again, we will be using sklearn to perform this model:"
      ]
    },
    {
      "cell_type": "code",
      "metadata": {
        "id": "IKdwDv8Ye9wB",
        "colab": {
          "base_uri": "https://localhost:8080/",
          "height": 102
        },
        "outputId": "513045ce-bbfa-4ead-dff1-96cca4ec2933"
      },
      "source": [
        "#@title Creating Logistic Regression\n",
        "from sklearn.linear_model import LogisticRegression\n",
        "model = LogisticRegression()\n",
        "model.fit(X_train_vectorized, y_train)"
      ],
      "execution_count": null,
      "outputs": [
        {
          "output_type": "execute_result",
          "data": {
            "text/plain": [
              "LogisticRegression(C=1.0, class_weight=None, dual=False, fit_intercept=True,\n",
              "                   intercept_scaling=1, l1_ratio=None, max_iter=100,\n",
              "                   multi_class='auto', n_jobs=None, penalty='l2',\n",
              "                   random_state=None, solver='lbfgs', tol=0.0001, verbose=0,\n",
              "                   warm_start=False)"
            ]
          },
          "metadata": {
            "tags": []
          },
          "execution_count": 55
        }
      ]
    },
    {
      "cell_type": "markdown",
      "metadata": {
        "id": "A1M9a0SZfNju"
      },
      "source": [
        "Now, we will calculate the AUC to see how well it classifies the test data.\n",
        "\n",
        "AUC (Area Under The Curve) ROC (Receiver Operating Characteristics)\n",
        "\n",
        "AUC - ROC curve is a performance measurement for classification problem at various thresholds settings. ROC is a probability curve and AUC represents degree or measure of separability. It tells how much model is capable of distinguishing between classes. Higher the AUC, better the model is at predicting 0s as 0s and 1s as 1s. By analogy, Higher the AUC, better the model is at distinguishing between good and bad reviews."
      ]
    },
    {
      "cell_type": "code",
      "metadata": {
        "id": "TUciFHhOfOob",
        "colab": {
          "base_uri": "https://localhost:8080/",
          "height": 34
        },
        "outputId": "14d46c19-951d-4184-9e37-831dc63bd432"
      },
      "source": [
        "#@title Calculating AUC\n",
        "from sklearn.metrics import roc_auc_score\n",
        "predictions = model.predict(vect.transform(X_test))\n",
        "print('AUC: ', roc_auc_score(y_test, predictions))"
      ],
      "execution_count": null,
      "outputs": [
        {
          "output_type": "stream",
          "text": [
            "AUC:  0.7549863444508814\n"
          ],
          "name": "stdout"
        }
      ]
    },
    {
      "cell_type": "markdown",
      "metadata": {
        "id": "6x4DQR1RgB8w"
      },
      "source": [
        "This is good. A rough way of understanding this metric is to say we have 75% correctly classified instances."
      ]
    },
    {
      "cell_type": "markdown",
      "metadata": {
        "id": "_Gr04xWLgF38"
      },
      "source": [
        "**Testing / Conclusions**\n",
        "\n",
        "**Positive and Negative Words**\n",
        "\n",
        "Let’s delve into which words have the highest impact on class separation. Here we are translating our numbers back into words, getting the coefficients outputted by the regression, adding them both into a dataframe, and sorting them by their coefficient."
      ]
    },
    {
      "cell_type": "code",
      "metadata": {
        "id": "7eH-RbgXgDOb",
        "colab": {
          "base_uri": "https://localhost:8080/",
          "height": 419
        },
        "outputId": "043c3b2b-5bbd-419e-99fa-c109443f74c8"
      },
      "source": [
        "#creating array variable of all the words\n",
        "feature_names = np.array(vect.get_feature_names())\n",
        "#creating array of all the regression coefficients per word\n",
        "coef_index = model.coef_[0]\n",
        "#creating df with both arrays in it\n",
        "df = pd.DataFrame({'Word':feature_names, 'Coef': coef_index})\n",
        "#sorting by coefficient\n",
        "df.sort_values('Coef')"
      ],
      "execution_count": null,
      "outputs": [
        {
          "output_type": "execute_result",
          "data": {
            "text/html": [
              "<div>\n",
              "<style scoped>\n",
              "    .dataframe tbody tr th:only-of-type {\n",
              "        vertical-align: middle;\n",
              "    }\n",
              "\n",
              "    .dataframe tbody tr th {\n",
              "        vertical-align: top;\n",
              "    }\n",
              "\n",
              "    .dataframe thead th {\n",
              "        text-align: right;\n",
              "    }\n",
              "</style>\n",
              "<table border=\"1\" class=\"dataframe\">\n",
              "  <thead>\n",
              "    <tr style=\"text-align: right;\">\n",
              "      <th></th>\n",
              "      <th>Word</th>\n",
              "      <th>Coef</th>\n",
              "    </tr>\n",
              "  </thead>\n",
              "  <tbody>\n",
              "    <tr>\n",
              "      <th>913</th>\n",
              "      <td>charged</td>\n",
              "      <td>-1.008715</td>\n",
              "    </tr>\n",
              "    <tr>\n",
              "      <th>3820</th>\n",
              "      <td>never</td>\n",
              "      <td>-0.938884</td>\n",
              "    </tr>\n",
              "    <tr>\n",
              "      <th>1364</th>\n",
              "      <td>customer</td>\n",
              "      <td>-0.738470</td>\n",
              "    </tr>\n",
              "    <tr>\n",
              "      <th>240</th>\n",
              "      <td>another</td>\n",
              "      <td>-0.684385</td>\n",
              "    </tr>\n",
              "    <tr>\n",
              "      <th>3179</th>\n",
              "      <td>know</td>\n",
              "      <td>-0.671529</td>\n",
              "    </tr>\n",
              "    <tr>\n",
              "      <th>...</th>\n",
              "      <td>...</td>\n",
              "      <td>...</td>\n",
              "    </tr>\n",
              "    <tr>\n",
              "      <th>4433</th>\n",
              "      <td>professional</td>\n",
              "      <td>0.918334</td>\n",
              "    </tr>\n",
              "    <tr>\n",
              "      <th>6234</th>\n",
              "      <td>used</td>\n",
              "      <td>0.936761</td>\n",
              "    </tr>\n",
              "    <tr>\n",
              "      <th>1224</th>\n",
              "      <td>convenient</td>\n",
              "      <td>1.002479</td>\n",
              "    </tr>\n",
              "    <tr>\n",
              "      <th>5016</th>\n",
              "      <td>safe</td>\n",
              "      <td>1.030542</td>\n",
              "    </tr>\n",
              "    <tr>\n",
              "      <th>2500</th>\n",
              "      <td>great</td>\n",
              "      <td>1.202428</td>\n",
              "    </tr>\n",
              "  </tbody>\n",
              "</table>\n",
              "<p>6607 rows × 2 columns</p>\n",
              "</div>"
            ],
            "text/plain": [
              "              Word      Coef\n",
              "913        charged -1.008715\n",
              "3820         never -0.938884\n",
              "1364      customer -0.738470\n",
              "240        another -0.684385\n",
              "3179          know -0.671529\n",
              "...            ...       ...\n",
              "4433  professional  0.918334\n",
              "6234          used  0.936761\n",
              "1224    convenient  1.002479\n",
              "5016          safe  1.030542\n",
              "2500         great  1.202428\n",
              "\n",
              "[6607 rows x 2 columns]"
            ]
          },
          "metadata": {
            "tags": []
          },
          "execution_count": 57
        }
      ]
    },
    {
      "cell_type": "markdown",
      "metadata": {
        "id": "SJ4QPaSzgWwy"
      },
      "source": [
        "**Negative Sentiment:**\n",
        "\n",
        "This is fascinating to me.\n",
        "\n",
        "“Charged” is the most negatively correlated word.\n",
        "\n",
        "“Lyft” I thought was interesting as well. If customers have a negative experience, I’m sure they have a propensity to comment “Your competitor is better than you!”.\n",
        "\n",
        "“Free” was one that confused me. I would have thought ‘free’ would be a positive-leaning word."
      ]
    },
    {
      "cell_type": "markdown",
      "metadata": {
        "id": "A1DvNjOCge3N"
      },
      "source": [
        "**Positive Sentiment:**\n",
        "\n",
        "As you move down the dataframe, the words become more positively correlated.\n",
        "\n",
        "“great” is the highest, with a score so positive, it even outweighs “charged”.\n",
        "\n",
        "“Safe”, “Convenient”, “Clean”… a lot of these words are intuitively expected.\n",
        "\n",
        "An unexpected positively correlated word is “she”. Do female drivers have a more positive effect on customer sentiment?"
      ]
    },
    {
      "cell_type": "markdown",
      "metadata": {
        "id": "Vocx4OlFgWpq"
      },
      "source": [
        "These results can provide potentially invaluable business insight to Uber’s stakeholders and leadership"
      ]
    },
    {
      "cell_type": "markdown",
      "metadata": {
        "id": "VK4aZOplgoQP"
      },
      "source": [
        "**Testing custom reviews**\n",
        "\n",
        "Lastly, we can experiment and test our own custom reviews. In bold below are the inputs and beneath that are the respective outputs (1 = positive; 0 = negative). That last one should easily be a positive, but our classifier labels it as negative. The rest seem accurate."
      ]
    },
    {
      "cell_type": "code",
      "metadata": {
        "id": "zx38ABNCguOq",
        "colab": {
          "base_uri": "https://localhost:8080/",
          "height": 170
        },
        "outputId": "dd8613a9-42ed-46d8-9b43-5900a1aed53d"
      },
      "source": [
        "print(model.predict(vect.transform(['abandoned great'])))\n",
        "print(model.predict(vect.transform(['Who doesn’t love a clean car? If your driver takes great care of theirs, go ahead and say thanks.'])))\n",
        "print(model.predict(vect.transform(['great she the best'])))\n",
        "print(model.predict(vect.transform(['cool, safe, fun'])))\n",
        "print(model.predict(vect.transform(['charged slow horrible'])))\n",
        "print(model.predict(vect.transform(['it was as average as a trip could be'])))\n",
        "print(model.predict(vect.transform(['my family felt safe we got to our destination with ease'])))\n",
        "print(model.predict(vect.transform(['i got to my destination quickly and affordably i had a smile on my face from start to finish'])))\n",
        "print(model.predict(vect.transform(['hard, bad, cool'])))"
      ],
      "execution_count": null,
      "outputs": [
        {
          "output_type": "stream",
          "text": [
            "[1]\n",
            "[1]\n",
            "[1]\n",
            "[1]\n",
            "[0]\n",
            "[0]\n",
            "[1]\n",
            "[0]\n",
            "[0]\n"
          ],
          "name": "stdout"
        }
      ]
    },
    {
      "cell_type": "code",
      "metadata": {
        "id": "0h7ZlyoABMCA",
        "colab": {
          "base_uri": "https://localhost:8080/",
          "height": 34
        },
        "outputId": "ddf3fdc5-9096-4783-e5b5-bcc4155c946d"
      },
      "source": [
        "print(model.predict(vect.transform([\"I bought this based on many of the reviews I read here and my own memories of playing this game as a child and I'm amazed at what I ended up with. This is nowhere near the game I once played. The pieces are tiny white plastic pieces, and I mean so tiny you can't grip them at all with the tweezers -- which is too big to fit into the holes to retrieve the pieces. It was frustrating not only for a child but also for the adults that tried to play. I know manufacturers don't use the quality of material they used to when I was a kid but I have never seen a piece of junk as bad as this. Save your money and steer clear.\"])))"
      ],
      "execution_count": null,
      "outputs": [
        {
          "output_type": "stream",
          "text": [
            "[0]\n"
          ],
          "name": "stdout"
        }
      ]
    }
  ]
}